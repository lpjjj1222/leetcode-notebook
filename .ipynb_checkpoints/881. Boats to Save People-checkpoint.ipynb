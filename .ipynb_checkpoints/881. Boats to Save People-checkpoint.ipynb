{
 "cells": [
  {
   "cell_type": "code",
   "execution_count": 124,
   "id": "d8becce0",
   "metadata": {},
   "outputs": [],
   "source": [
    "def numRescueBoats(people,limit):\n",
    "#对撞指针最经典的题目就是14579逐渐增大的数列，找相加=12的两两数对\n",
    "#放到这里，就很像啊！ 两个人体重之和 <=limit\n",
    "\n",
    "#由于people这个list无序，所以先排序\n",
    "    people.sort()\n",
    "\n",
    "    #左指针 和 右指针 以及船的数量\n",
    "    left = 0\n",
    "    right = len(people) - 1\n",
    "    boats = 0\n",
    "\n",
    "\n",
    "    #当左右指针还没对撞时，进入While循环\n",
    "    while left <= right:\n",
    "\n",
    "            #无论左指针和右指针的体重之和是否大于limit,右指针都要往左,且船都要用掉一艘\n",
    "            #因为如果大于limit,则右指针体重自己乘船，右指针往左和原来的左指针加起来和limit对比\n",
    "            #如果小于limit,则直接左右指针一起乘船，右指针往左，左指针往右\n",
    "        if left != right and people[right] + people[left] <= limit:\n",
    "            left += 1\n",
    "\n",
    "        boats += 1\n",
    "        right -= 1\n",
    "\n",
    "    return boats"
   ]
  },
  {
   "cell_type": "code",
   "execution_count": 125,
   "id": "9404f6a5",
   "metadata": {},
   "outputs": [
    {
     "data": {
      "text/plain": [
       "2"
      ]
     },
     "execution_count": 125,
     "metadata": {},
     "output_type": "execute_result"
    }
   ],
   "source": [
    "numRescueBoats([7,8],8)"
   ]
  },
  {
   "cell_type": "code",
   "execution_count": null,
   "id": "f0a43ab6",
   "metadata": {},
   "outputs": [],
   "source": [
    "#下面的是递归，刷题最好不用递归，因为时间和空间复杂度都不太行"
   ]
  },
  {
   "cell_type": "code",
   "execution_count": 79,
   "id": "ee9fdf82",
   "metadata": {
    "scrolled": true
   },
   "outputs": [],
   "source": [
    "def numRescueBoats(people, limit):\n",
    "        #对撞指针最经典的题目就是14579逐渐增大的数列，找相加=12的两两数对\n",
    "    #放到这里，就很像啊！ 两个人体重之和 <=limit\n",
    "    \n",
    "    #由于people这个list无序，所以先排序\n",
    "    people.sort()\n",
    "\n",
    "    #注意这题people里的所有元素都小于等于limit\n",
    "\n",
    "    #注意对撞指针的题目由于要考虑到对撞，因此每一个index必须唯一，所以不能把元素remove出列表，也不要把右指针的最开始定义为people[-1]\n",
    "\n",
    "    def howmanyboats(right_index,left_index):\n",
    "        #如果people列表里只有一个数字，则一上来就会对撞\n",
    "        if right_index == left_index:\n",
    "            return 1\n",
    "\n",
    "        #如果右指针对应的数刚好等于limit,则自己上一艘船，并将右指针往左移\n",
    "        if people[right_index] == limit:\n",
    "            return 1 + howmanyboats(right_index -1,left_index)\n",
    "\n",
    "        #如果左指针对应的数刚好等于limit,则自己上一艘船，并将左指针往右移\n",
    "        if people[left_index] == limit:\n",
    "            return 1 + howmanyboats(right_index, left_index + 1)\n",
    "\n",
    "        #如果左右指针对应的数相加 < limit,则一起上一艘船， 左右指针分别移一格\n",
    "        if people[left_index] + people[right_index] <= limit:\n",
    "            #如果下一步就要对撞，例如[1,2],limit = 3, 应该直接结束递归\n",
    "            if left_index + 1 == right_index:\n",
    "                return 1\n",
    "            else:\n",
    "                return 1 + howmanyboats(right_index -1, left_index +1)\n",
    "\n",
    "        #如果左右指针对应的数相加 > limit, 则把右指针向左移，使两数之和变小，且右指针对应的数上船\n",
    "        #上船是因为把最小的搭给他都不能一起坐船，只能自己坐\n",
    "\n",
    "        if people[left_index] + people[right_index] > limit:\n",
    "            #如果即将对撞，即[4,5],limit = 6,则应各上一条船，且结束递归\n",
    "            if left_index + 1 == right_index:\n",
    "                return 2\n",
    "            else:\n",
    "                return 1 + howmanyboats(right_index -1, left_index)\n",
    "            \n",
    "    return howmanyboats(len(people)-1,0)\n",
    "\n",
    "    \n",
    "    \n",
    "    \n",
    "    \n",
    "        "
   ]
  }
 ],
 "metadata": {
  "kernelspec": {
   "display_name": "Python 3 (ipykernel)",
   "language": "python",
   "name": "python3"
  },
  "language_info": {
   "codemirror_mode": {
    "name": "ipython",
    "version": 3
   },
   "file_extension": ".py",
   "mimetype": "text/x-python",
   "name": "python",
   "nbconvert_exporter": "python",
   "pygments_lexer": "ipython3",
   "version": "3.8.2"
  }
 },
 "nbformat": 4,
 "nbformat_minor": 5
}
