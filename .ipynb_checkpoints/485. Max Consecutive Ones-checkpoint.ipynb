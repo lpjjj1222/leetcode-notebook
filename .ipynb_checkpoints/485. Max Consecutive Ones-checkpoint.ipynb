{
 "cells": [
  {
   "cell_type": "code",
   "execution_count": null,
   "id": "650dd281",
   "metadata": {},
   "outputs": [],
   "source": [
    "class Solution:\n",
    "    def findMaxConsecutiveOnes(self, nums: List[int]) -> int:\n",
    "        maxcons = 0\n",
    "        curcons = 0\n",
    "\n",
    "        for i in range(len(nums)):\n",
    "            cur = nums[i]\n",
    "            if cur == 1:\n",
    "                curcons +=1\n",
    "            else:\n",
    "                maxcons = max(maxcons,curcons)\n",
    "                curcons = 0 \n",
    "        return max(maxcons,curcons)"
   ]
  }
 ],
 "metadata": {
  "kernelspec": {
   "display_name": "Python 3 (ipykernel)",
   "language": "python",
   "name": "python3"
  },
  "language_info": {
   "codemirror_mode": {
    "name": "ipython",
    "version": 3
   },
   "file_extension": ".py",
   "mimetype": "text/x-python",
   "name": "python",
   "nbconvert_exporter": "python",
   "pygments_lexer": "ipython3",
   "version": "3.8.2"
  }
 },
 "nbformat": 4,
 "nbformat_minor": 5
}
